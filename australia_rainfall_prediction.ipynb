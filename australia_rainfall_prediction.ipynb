{
 "cells": [
  {
   "cell_type": "code",
   "execution_count": 2,
   "metadata": {
    "colab": {
     "base_uri": "https://localhost:8080/"
    },
    "id": "TFjBkBdvsmtM",
    "outputId": "dfe0f99a-a3e2-4d4e-dc80-3f7b8eb56501"
   },
   "outputs": [
    {
     "ename": "ModuleNotFoundError",
     "evalue": "No module named 'imblearn'",
     "output_type": "error",
     "traceback": [
      "\u001b[1;31m---------------------------------------------------------------------------\u001b[0m",
      "\u001b[1;31mModuleNotFoundError\u001b[0m                       Traceback (most recent call last)",
      "\u001b[1;32m<ipython-input-2-bd3483640466>\u001b[0m in \u001b[0;36m<module>\u001b[1;34m\u001b[0m\n\u001b[0;32m      8\u001b[0m \u001b[1;32mfrom\u001b[0m \u001b[0mscipy\u001b[0m \u001b[1;32mimport\u001b[0m \u001b[0mstats\u001b[0m\u001b[1;33m\u001b[0m\u001b[1;33m\u001b[0m\u001b[0m\n\u001b[0;32m      9\u001b[0m \u001b[1;32mfrom\u001b[0m \u001b[0msklearn\u001b[0m\u001b[1;33m.\u001b[0m\u001b[0mlinear_model\u001b[0m \u001b[1;32mimport\u001b[0m \u001b[0mLogisticRegression\u001b[0m\u001b[1;33m\u001b[0m\u001b[1;33m\u001b[0m\u001b[0m\n\u001b[1;32m---> 10\u001b[1;33m \u001b[1;32mfrom\u001b[0m \u001b[0mimblearn\u001b[0m\u001b[1;33m.\u001b[0m\u001b[0mover_sampling\u001b[0m \u001b[1;32mimport\u001b[0m \u001b[0mSMOTE\u001b[0m\u001b[1;33m\u001b[0m\u001b[1;33m\u001b[0m\u001b[0m\n\u001b[0m\u001b[0;32m     11\u001b[0m \u001b[1;32mfrom\u001b[0m \u001b[0mcollections\u001b[0m \u001b[1;32mimport\u001b[0m \u001b[0mCounter\u001b[0m\u001b[1;33m\u001b[0m\u001b[1;33m\u001b[0m\u001b[0m\n\u001b[0;32m     12\u001b[0m \u001b[1;32mfrom\u001b[0m \u001b[0msklearn\u001b[0m\u001b[1;33m.\u001b[0m\u001b[0mmetrics\u001b[0m \u001b[1;32mimport\u001b[0m \u001b[0mconfusion_matrix\u001b[0m\u001b[1;33m\u001b[0m\u001b[1;33m\u001b[0m\u001b[0m\n",
      "\u001b[1;31mModuleNotFoundError\u001b[0m: No module named 'imblearn'"
     ]
    }
   ],
   "source": [
    "import numpy as np \n",
    "import pandas as pd \n",
    "import os\n",
    "import seaborn as sns\n",
    "import matplotlib.pyplot as plt\n",
    "from sklearn import preprocessing\n",
    "from sklearn.model_selection import train_test_split\n",
    "from scipy import stats\n",
    "from sklearn.linear_model import LogisticRegression\n",
    "from imblearn.over_sampling import SMOTE\n",
    "from collections import Counter\n",
    "from sklearn.metrics import confusion_matrix\n",
    "from sklearn.metrics import accuracy_score, f1_score\n",
    "from xgboost import XGBClassifier\n",
    "from sklearn.ensemble import RandomForestRegressor\n",
    "from sklearn.naive_bayes import BernoulliNB\n",
    "from sklearn.naive_bayes import GaussianNB\n",
    "from sklearn.svm import SVC\n",
    "from sklearn.ensemble import RandomForestRegressor\n",
    "import warnings\n",
    "\n",
    "warnings.filterwarnings(\"ignore\")"
   ]
  },
  {
   "cell_type": "code",
   "execution_count": 4,
   "metadata": {
    "id": "jr1S1y_hswZf"
   },
   "outputs": [],
   "source": [
    "rain = pd.read_csv(\"weatherAUS.csv\")"
   ]
  },
  {
   "cell_type": "code",
   "execution_count": null,
   "metadata": {
    "colab": {
     "base_uri": "https://localhost:8080/",
     "height": 427
    },
    "id": "emjMFFxRtBit",
    "outputId": "8b7bd037-486f-4d12-82b7-bc485f2b63d8"
   },
   "outputs": [],
   "source": [
    "rain"
   ]
  },
  {
   "cell_type": "code",
   "execution_count": null,
   "metadata": {
    "colab": {
     "base_uri": "https://localhost:8080/"
    },
    "id": "bxN0h6SLtCfs",
    "outputId": "bcef5eb7-ecf2-4551-cce1-aac4554e72c4"
   },
   "outputs": [],
   "source": [
    "print(f'The number of rows are {rain.shape[0] } and the number of columns are {rain.shape[1]}')"
   ]
  },
  {
   "cell_type": "code",
   "execution_count": null,
   "metadata": {
    "colab": {
     "base_uri": "https://localhost:8080/"
    },
    "id": "9bCrXP5DtOTB",
    "outputId": "aea310c8-9550-407f-c060-c436d3dab781"
   },
   "outputs": [],
   "source": [
    "rain.info()"
   ]
  },
  {
   "cell_type": "code",
   "execution_count": null,
   "metadata": {
    "colab": {
     "base_uri": "https://localhost:8080/"
    },
    "id": "TxNef5mOtQ1p",
    "outputId": "14ceb75e-6183-4937-de03-2e64dc5d80a5"
   },
   "outputs": [],
   "source": [
    "categorical_col, contin_val=[],[]\n",
    "\n",
    "for i in rain.columns:\n",
    "    \n",
    "    if rain[i].dtype == 'object':\n",
    "        categorical_col.append(i)\n",
    "    else:\n",
    "        contin_val.append(i)\n",
    "        \n",
    "print(categorical_col)\n",
    "print(contin_val)"
   ]
  },
  {
   "cell_type": "code",
   "execution_count": null,
   "metadata": {
    "colab": {
     "base_uri": "https://localhost:8080/"
    },
    "id": "UCJmYlsltUzf",
    "outputId": "27720802-74e9-4c01-f14e-661d60aa6e19"
   },
   "outputs": [],
   "source": [
    "rain.isnull().sum()"
   ]
  },
  {
   "cell_type": "code",
   "execution_count": null,
   "metadata": {
    "colab": {
     "base_uri": "https://localhost:8080/",
     "height": 445
    },
    "id": "XrZoP6netZa1",
    "outputId": "010eebbe-21af-4543-d7f0-444318e128fa"
   },
   "outputs": [],
   "source": [
    "msno.bar(rain, sort='ascending')"
   ]
  },
  {
   "cell_type": "code",
   "execution_count": null,
   "metadata": {
    "colab": {
     "base_uri": "https://localhost:8080/"
    },
    "id": "ZFI1ovOotgDL",
    "outputId": "5c2667f6-f39d-4908-f5de-3c3d2ad8c08b"
   },
   "outputs": [],
   "source": [
    "rain['RainTomorrow'] = rain['RainTomorrow'].map({'Yes': 1, 'No': 0})\n",
    "rain['RainToday'] = rain['RainToday'].map({'Yes': 1, 'No': 0})\n",
    "\n",
    "print(rain.RainToday)\n",
    "print(rain.RainTomorrow)"
   ]
  },
  {
   "cell_type": "code",
   "execution_count": null,
   "metadata": {
    "colab": {
     "base_uri": "https://localhost:8080/"
    },
    "id": "GOZ4vwUItlDO",
    "outputId": "21f7a7ee-d610-4bdd-ad5f-bf364db59709"
   },
   "outputs": [],
   "source": [
    "(rain.isnull().sum()/len(rain))*100"
   ]
  },
  {
   "cell_type": "code",
   "execution_count": null,
   "metadata": {
    "id": "n2862Bautxof"
   },
   "outputs": [],
   "source": [
    "#Filling the missing values for continuous variables with mean\n",
    "rain['MinTemp']=rain['MinTemp'].fillna(rain['MinTemp'].mean())\n",
    "rain['MaxTemp']=rain['MinTemp'].fillna(rain['MaxTemp'].mean())\n",
    "rain['Rainfall']=rain['Rainfall'].fillna(rain['Rainfall'].mean())\n",
    "rain['Evaporation']=rain['Evaporation'].fillna(rain['Evaporation'].mean())\n",
    "rain['Sunshine']=rain['Sunshine'].fillna(rain['Sunshine'].mean())\n",
    "rain['WindGustSpeed']=rain['WindGustSpeed'].fillna(rain['WindGustSpeed'].mean())\n",
    "rain['WindSpeed9am']=rain['WindSpeed9am'].fillna(rain['WindSpeed9am'].mean())\n",
    "rain['WindSpeed3pm']=rain['WindSpeed3pm'].fillna(rain['WindSpeed3pm'].mean())\n",
    "rain['Humidity9am']=rain['Humidity9am'].fillna(rain['Humidity9am'].mean())\n",
    "rain['Humidity3pm']=rain['Humidity3pm'].fillna(rain['Humidity3pm'].mean())\n",
    "rain['Pressure9am']=rain['Pressure9am'].fillna(rain['Pressure9am'].mean())\n",
    "rain['Pressure3pm']=rain['Pressure3pm'].fillna(rain['Pressure3pm'].mean())\n",
    "rain['Cloud9am']=rain['Cloud9am'].fillna(rain['Cloud9am'].mean())\n",
    "rain['Cloud3pm']=rain['Cloud3pm'].fillna(rain['Cloud3pm'].mean())\n",
    "rain['Temp9am']=rain['Temp9am'].fillna(rain['Temp9am'].mean())\n",
    "rain['Temp3pm']=rain['Temp3pm'].fillna(rain['Temp3pm'].mean())"
   ]
  },
  {
   "cell_type": "code",
   "execution_count": null,
   "metadata": {
    "id": "iOxwRuldt2CB"
   },
   "outputs": [],
   "source": [
    "#Filling the missing values for continuous variables with mode\n",
    "\n",
    "rain['RainToday']=rain['RainToday'].fillna(rain['RainToday'].mode()[0])\n",
    "rain['RainTomorrow']=rain['RainTomorrow'].fillna(rain['RainTomorrow'].mode()[0])"
   ]
  },
  {
   "cell_type": "code",
   "execution_count": 3,
   "metadata": {
    "id": "6DI_fpCjt6TL"
   },
   "outputs": [
    {
     "ename": "NameError",
     "evalue": "name 'rain' is not defined",
     "output_type": "error",
     "traceback": [
      "\u001b[1;31m---------------------------------------------------------------------------\u001b[0m",
      "\u001b[1;31mNameError\u001b[0m                                 Traceback (most recent call last)",
      "\u001b[1;32m<ipython-input-3-f0853d3f0d67>\u001b[0m in \u001b[0;36m<module>\u001b[1;34m\u001b[0m\n\u001b[0;32m      1\u001b[0m \u001b[1;31m#Filling the missing values for continuous variables with mode\u001b[0m\u001b[1;33m\u001b[0m\u001b[1;33m\u001b[0m\u001b[1;33m\u001b[0m\u001b[0m\n\u001b[1;32m----> 2\u001b[1;33m \u001b[0mrain\u001b[0m\u001b[1;33m[\u001b[0m\u001b[1;34m'WindDir9am'\u001b[0m\u001b[1;33m]\u001b[0m \u001b[1;33m=\u001b[0m \u001b[0mrain\u001b[0m\u001b[1;33m[\u001b[0m\u001b[1;34m'WindDir9am'\u001b[0m\u001b[1;33m]\u001b[0m\u001b[1;33m.\u001b[0m\u001b[0mfillna\u001b[0m\u001b[1;33m(\u001b[0m\u001b[0mrain\u001b[0m\u001b[1;33m[\u001b[0m\u001b[1;34m'WindDir9am'\u001b[0m\u001b[1;33m]\u001b[0m\u001b[1;33m.\u001b[0m\u001b[0mmode\u001b[0m\u001b[1;33m(\u001b[0m\u001b[1;33m)\u001b[0m\u001b[1;33m[\u001b[0m\u001b[1;36m0\u001b[0m\u001b[1;33m]\u001b[0m\u001b[1;33m)\u001b[0m\u001b[1;33m\u001b[0m\u001b[1;33m\u001b[0m\u001b[0m\n\u001b[0m\u001b[0;32m      3\u001b[0m \u001b[0mrain\u001b[0m\u001b[1;33m[\u001b[0m\u001b[1;34m'WindGustDir'\u001b[0m\u001b[1;33m]\u001b[0m \u001b[1;33m=\u001b[0m \u001b[0mrain\u001b[0m\u001b[1;33m[\u001b[0m\u001b[1;34m'WindGustDir'\u001b[0m\u001b[1;33m]\u001b[0m\u001b[1;33m.\u001b[0m\u001b[0mfillna\u001b[0m\u001b[1;33m(\u001b[0m\u001b[0mrain\u001b[0m\u001b[1;33m[\u001b[0m\u001b[1;34m'WindGustDir'\u001b[0m\u001b[1;33m]\u001b[0m\u001b[1;33m.\u001b[0m\u001b[0mmode\u001b[0m\u001b[1;33m(\u001b[0m\u001b[1;33m)\u001b[0m\u001b[1;33m[\u001b[0m\u001b[1;36m0\u001b[0m\u001b[1;33m]\u001b[0m\u001b[1;33m)\u001b[0m\u001b[1;33m\u001b[0m\u001b[1;33m\u001b[0m\u001b[0m\n\u001b[0;32m      4\u001b[0m \u001b[0mrain\u001b[0m\u001b[1;33m[\u001b[0m\u001b[1;34m'WindDir3pm'\u001b[0m\u001b[1;33m]\u001b[0m \u001b[1;33m=\u001b[0m \u001b[0mrain\u001b[0m\u001b[1;33m[\u001b[0m\u001b[1;34m'WindDir3pm'\u001b[0m\u001b[1;33m]\u001b[0m\u001b[1;33m.\u001b[0m\u001b[0mfillna\u001b[0m\u001b[1;33m(\u001b[0m\u001b[0mrain\u001b[0m\u001b[1;33m[\u001b[0m\u001b[1;34m'WindDir3pm'\u001b[0m\u001b[1;33m]\u001b[0m\u001b[1;33m.\u001b[0m\u001b[0mmode\u001b[0m\u001b[1;33m(\u001b[0m\u001b[1;33m)\u001b[0m\u001b[1;33m[\u001b[0m\u001b[1;36m0\u001b[0m\u001b[1;33m]\u001b[0m\u001b[1;33m)\u001b[0m\u001b[1;33m\u001b[0m\u001b[1;33m\u001b[0m\u001b[0m\n",
      "\u001b[1;31mNameError\u001b[0m: name 'rain' is not defined"
     ]
    }
   ],
   "source": [
    "#Filling the missing values for continuous variables with mode\n",
    "rain['WindDir9am'] = rain['WindDir9am'].fillna(rain['WindDir9am'].mode()[0])\n",
    "rain['WindGustDir'] = rain['WindGustDir'].fillna(rain['WindGustDir'].mode()[0])\n",
    "rain['WindDir3pm'] = rain['WindDir3pm'].fillna(rain['WindDir3pm'].mode()[0])"
   ]
  },
  {
   "cell_type": "code",
   "execution_count": null,
   "metadata": {
    "colab": {
     "base_uri": "https://localhost:8080/"
    },
    "id": "s-HZqEj3t-5Y",
    "outputId": "498a9e8f-53fc-4454-e07e-dfededf0510e"
   },
   "outputs": [],
   "source": [
    "#Checking percentage of missing data in every column\n",
    "\n",
    "(rain.isnull().sum()/len(rain))*100"
   ]
  },
  {
   "cell_type": "code",
   "execution_count": null,
   "metadata": {
    "colab": {
     "base_uri": "https://localhost:8080/",
     "height": 427
    },
    "id": "F5vjYaSxuCku",
    "outputId": "e49ad857-335e-4b07-edfc-4b600e19d31e"
   },
   "outputs": [],
   "source": [
    "#Dropping date column\n",
    "rain=rain.iloc[:,1:]\n",
    "rain"
   ]
  },
  {
   "cell_type": "code",
   "execution_count": null,
   "metadata": {
    "id": "bq2-t2GDuNv2"
   },
   "outputs": [],
   "source": [
    "le = preprocessing.LabelEncoder()\n",
    "rain['Location'] = le.fit_transform(rain['Location'])\n",
    "rain['WindDir9am'] = le.fit_transform(rain['WindDir9am'])\n",
    "rain['WindDir3pm'] = le.fit_transform(rain['WindDir3pm'])\n",
    "rain['WindGustDir'] = le.fit_transform(rain['WindGustDir'])"
   ]
  },
  {
   "cell_type": "code",
   "execution_count": null,
   "metadata": {
    "colab": {
     "base_uri": "https://localhost:8080/",
     "height": 218
    },
    "id": "oRuI94ZquPCD",
    "outputId": "3707c896-9c4b-4a12-aeb7-2eb949f8534f"
   },
   "outputs": [],
   "source": [
    "rain.head(5)"
   ]
  },
  {
   "cell_type": "code",
   "execution_count": null,
   "metadata": {
    "colab": {
     "base_uri": "https://localhost:8080/",
     "height": 801
    },
    "id": "fpSH_0EruVKA",
    "outputId": "5015dd24-298b-43e7-a037-b7461398622a"
   },
   "outputs": [],
   "source": [
    "plt.figure(figsize=(15,15))\n",
    "ax = sns.heatmap(rain.corr(), square=True, annot=True, fmt='.2f')\n",
    "ax.set_xticklabels(ax.get_xticklabels(), rotation=90)          \n",
    "plt.show()"
   ]
  },
  {
   "cell_type": "markdown",
   "metadata": {
    "id": "xsK9MueZudFP"
   },
   "source": [
    "*   MinTemp and Temp9am highly correlated.\n",
    "*   MinTemp and Temp3pm highly correlated.\n",
    "*   MaxTemp and Temp9am highly correlated.\n",
    "*   MaxTemp and Temp3pm highly correlated.\n",
    "*   Temp3pm and Temp9am highly correlated.\n",
    "*   Humidity9am and Humidity3pm highly correlated.\n"
   ]
  },
  {
   "cell_type": "code",
   "execution_count": null,
   "metadata": {
    "colab": {
     "base_uri": "https://localhost:8080/",
     "height": 315
    },
    "id": "XmpSDtj1ua4a",
    "outputId": "1eb01043-2dd2-4ebf-ae7a-465df93fb5b4"
   },
   "outputs": [],
   "source": [
    "fig, ax =plt.subplots(2,1)\n",
    "plt.figure(figsize=(10,10))\n",
    "sns.boxplot(rain['Humidity3pm'],orient='v',color='c',ax=ax[0])\n",
    "sns.boxplot(rain['Humidity9am'],orient='v',color='c',ax=ax[1])\n",
    "fig.tight_layout()"
   ]
  },
  {
   "cell_type": "code",
   "execution_count": null,
   "metadata": {
    "colab": {
     "base_uri": "https://localhost:8080/",
     "height": 315
    },
    "id": "8nj_EVxnxB3F",
    "outputId": "e1b7e45b-668d-469f-be8c-144bebc437a5"
   },
   "outputs": [],
   "source": [
    "fig, ax =plt.subplots(2,1)\n",
    "plt.figure(figsize=(10,10))\n",
    "sns.boxplot(rain['Pressure3pm'],orient='v',color='c',ax=ax[0])\n",
    "sns.boxplot(rain['Pressure9am'],orient='v',color='c',ax=ax[1])\n",
    "fig.tight_layout()"
   ]
  },
  {
   "cell_type": "code",
   "execution_count": null,
   "metadata": {
    "colab": {
     "base_uri": "https://localhost:8080/",
     "height": 297
    },
    "id": "hACSw76QxEbd",
    "outputId": "c3d1161c-29c1-492b-ba58-c9cc2a809e54"
   },
   "outputs": [],
   "source": [
    "sns.violinplot(x='RainToday',y='MaxTemp',data=rain,hue='RainTomorrow')"
   ]
  },
  {
   "cell_type": "code",
   "execution_count": null,
   "metadata": {
    "colab": {
     "base_uri": "https://localhost:8080/",
     "height": 297
    },
    "id": "N3ShH2ifxH2u",
    "outputId": "fb1b52cb-4e36-49c3-a6ed-525c1ab4f9ac"
   },
   "outputs": [],
   "source": [
    "sns.violinplot(x='RainToday',y='MinTemp',data=rain,hue='RainTomorrow')"
   ]
  },
  {
   "cell_type": "code",
   "execution_count": null,
   "metadata": {
    "colab": {
     "base_uri": "https://localhost:8080/"
    },
    "id": "o1hqcXVGxKWm",
    "outputId": "bbb01196-376c-435b-85b8-525b2cc81752"
   },
   "outputs": [],
   "source": [
    "print('Shape of DataFrame Before Removing Outliers', rain.shape )\n",
    "rain=rain[(np.abs(stats.zscore(rain)) < 3).all(axis=1)]\n",
    "print('Shape of DataFrame After Removing Outliers', rain.shape )"
   ]
  },
  {
   "cell_type": "code",
   "execution_count": null,
   "metadata": {
    "colab": {
     "base_uri": "https://localhost:8080/"
    },
    "id": "fqVdrMV_xNg1",
    "outputId": "2cc97192-a13b-4cb4-d801-bb4d41811d2d"
   },
   "outputs": [],
   "source": [
    "rain=rain.drop(['Temp3pm','Temp9am','Humidity9am'],axis=1)\n",
    "rain.columns"
   ]
  },
  {
   "cell_type": "code",
   "execution_count": null,
   "metadata": {
    "colab": {
     "base_uri": "https://localhost:8080/"
    },
    "id": "9oIWrloRxQc8",
    "outputId": "7b0ba1e0-238a-4c1e-83c6-0de366640e93"
   },
   "outputs": [],
   "source": [
    "os = SMOTE()\n",
    "x, y = os.fit_resample(rain.iloc[:,:-1], rain.iloc[:,-1])\n",
    "count = Counter(y)\n",
    "print(count)"
   ]
  },
  {
   "cell_type": "code",
   "execution_count": null,
   "metadata": {
    "id": "9pUob1fRxUyk"
   },
   "outputs": [],
   "source": [
    "x_train, x_test, y_train, y_test = train_test_split(x, y, test_size=0.2, random_state=42)"
   ]
  },
  {
   "cell_type": "markdown",
   "metadata": {
    "id": "WeByx9F5xZq5"
   },
   "source": [
    "## **Training The Models**"
   ]
  },
  {
   "cell_type": "markdown",
   "metadata": {
    "id": "it99sp_5xe6G"
   },
   "source": [
    "**1. Logistic Regression**"
   ]
  },
  {
   "cell_type": "code",
   "execution_count": null,
   "metadata": {
    "colab": {
     "base_uri": "https://localhost:8080/"
    },
    "id": "JQsMCVRbxW4m",
    "outputId": "2505d428-65aa-45b0-c0be-c01757de9df2"
   },
   "outputs": [],
   "source": [
    "LR_model = LogisticRegression(max_iter=500)\n",
    "LR_model.fit(x_train, y_train)\n",
    "predicted=LR_model.predict(x_test)\n",
    "\n",
    "conf = confusion_matrix(y_test, predicted)\n",
    "print (\"The accuracy of Logistic Regression is : \", accuracy_score(y_test, predicted)*100, \"%\")\n",
    "print()\n",
    "print(\"F1 score for logistic regression is :\",f1_score(y_test, predicted,)*100, \"%\")"
   ]
  },
  {
   "cell_type": "markdown",
   "metadata": {
    "id": "x9HRs2v4xrhZ"
   },
   "source": [
    "**2. XGBoost**"
   ]
  },
  {
   "cell_type": "code",
   "execution_count": null,
   "metadata": {
    "colab": {
     "base_uri": "https://localhost:8080/"
    },
    "id": "g3ZtEskOxoJW",
    "outputId": "95ace649-aece-45e1-93b2-2db9458794a9"
   },
   "outputs": [],
   "source": [
    "xgbc = XGBClassifier(objective='binary:logistic')\n",
    "xgbc.fit(x_train,y_train)\n",
    "predicted = xgbc.predict(x_test)\n",
    "print (\"The accuracy of Logistic Regression is : \", accuracy_score(y_test, predicted)*100, \"%\")\n",
    "print()\n",
    "print(\"F1 score for XGBoost is :\",f1_score(y_test, predicted,)*100, \"%\")"
   ]
  },
  {
   "cell_type": "markdown",
   "metadata": {
    "id": "1j0GQMc3x4oB"
   },
   "source": [
    "**3. Gaussian Naive Bayes**"
   ]
  },
  {
   "cell_type": "code",
   "execution_count": null,
   "metadata": {
    "colab": {
     "base_uri": "https://localhost:8080/"
    },
    "id": "jNKBqOq1x2K7",
    "outputId": "95bbfc10-8e5c-4e98-b120-949097e02c64"
   },
   "outputs": [],
   "source": [
    "GN_model = GaussianNB()\n",
    "GN_model.fit(x_train, y_train)\n",
    "  \n",
    "predicted = GN_model.predict(x_test)\n",
    "  \n",
    "print(\"The accuracy of Gaussian Naive Bayes model is : \", accuracy_score(y_test, predicted)*100, \"%\")\n",
    "print()\n",
    "print(\"F1 score for Gaussian Naive Bayes is :\",f1_score(y_test, predicted,)*100, \"%\")"
   ]
  },
  {
   "cell_type": "markdown",
   "metadata": {
    "id": "hzNDiQg8x_tE"
   },
   "source": [
    "**4. Bernoulli Naive Bayes**"
   ]
  },
  {
   "cell_type": "code",
   "execution_count": null,
   "metadata": {
    "colab": {
     "base_uri": "https://localhost:8080/"
    },
    "id": "r3Po06S6x_bz",
    "outputId": "3178fc8c-40ec-49bf-fa62-2c20e8bb00b9"
   },
   "outputs": [],
   "source": [
    "BN_model = BernoulliNB()\n",
    "BN_model.fit(x_train, y_train)\n",
    "  \n",
    "predicted = BN_model.predict(x_test)\n",
    "  \n",
    "print(\"The accuracy of Gaussian Naive Bayes model is : \", accuracy_score(y_test, predicted)*100, \"%\")\n",
    "print()\n",
    "print(\"F1 score for Bernoulli Naive Bayes is :\",f1_score(y_test, predicted,)*100, \"%\")"
   ]
  },
  {
   "cell_type": "markdown",
   "metadata": {
    "id": "Szj2mByjyGYb"
   },
   "source": [
    "**4. RandomForest**"
   ]
  },
  {
   "cell_type": "code",
   "execution_count": null,
   "metadata": {
    "colab": {
     "base_uri": "https://localhost:8080/"
    },
    "id": "5D_rCgrVyK0O",
    "outputId": "ed5dc43d-92b2-4391-c771-0ae060969854"
   },
   "outputs": [],
   "source": [
    "RF_model = RandomForestRegressor(n_estimators = 100, random_state = 0)  \n",
    "RF_model.fit(x_train, y_train)  \n",
    "predicted = RF_model.predict(x_test)\n",
    "print(\"The accuracy of Random Forest is : \", accuracy_score(y_test, predicted.round())*100, \"%\")"
   ]
  },
  {
   "cell_type": "code",
   "execution_count": null,
   "metadata": {
    "colab": {
     "base_uri": "https://localhost:8080/",
     "height": 407
    },
    "id": "G7w9DTqoz9F8",
    "outputId": "ab8f0065-2f7c-48b3-fe38-57ff14e3eab2"
   },
   "outputs": [],
   "source": [
    "table = pd.DataFrame({\"y_test\": y_test, \"predicted\": predicted})\n",
    "table"
   ]
  },
  {
   "cell_type": "code",
   "execution_count": null,
   "metadata": {
    "id": "lA4T2obSNjOX"
   },
   "outputs": [],
   "source": [
    "import pickle\n",
    "pickle.dump(RF_model, open(\"RandomforestModelFinal2.pkl\", 'wb'))"
   ]
  }
 ],
 "metadata": {
  "colab": {
   "name": "australia_rainfall_prediction.ipynb",
   "provenance": [],
   "toc_visible": true
  },
  "kernelspec": {
   "display_name": "Python 3",
   "language": "python",
   "name": "python3"
  },
  "language_info": {
   "codemirror_mode": {
    "name": "ipython",
    "version": 3
   },
   "file_extension": ".py",
   "mimetype": "text/x-python",
   "name": "python",
   "nbconvert_exporter": "python",
   "pygments_lexer": "ipython3",
   "version": "3.8.5"
  }
 },
 "nbformat": 4,
 "nbformat_minor": 1
}
